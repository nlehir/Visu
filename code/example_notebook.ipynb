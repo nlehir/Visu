{
 "cells": [
  {
   "cell_type": "markdown",
   "metadata": {},
   "source": [
    "### Example jupyter notebook\n",
    "\n",
    "In a Jupyter notebook, you can write both code and markdown text.\n",
    "\n",
    "You can even write maths in LateX:\n",
    "\n",
    "The natural logarithm $\\ln$ is defined as the only primitive function of $\\frac{1}{x}$ that takes the value $1$ in $0$, ie:\n",
    "\n",
    "$$\n",
    "\\forall x>0, \\; ln'(x)= \\frac{1}{x}\n",
    "$$\n",
    "\n",
    "and\n",
    "\n",
    "$$ \\ln(1)=0$$\n",
    "\n",
    "The logarithm in base $a$ where $a$ is a real stricly positive real number is defined as\n",
    "\n",
    "$$\n",
    "\\ln_a(x)= \\frac{\\ln(x)}{\\ln(a)}\n",
    "$$\n",
    "\n",
    "For instance, the logarithm in base $2$ is $\\ln_2(x)= \\frac{\\ln(x)}{\\ln(2)}$ and we have that $\\ln_2(2)=1$."
   ]
  },
  {
   "cell_type": "code",
   "execution_count": null,
   "metadata": {},
   "outputs": [],
   "source": [
    "import math\n",
    "print(math.log2(10))"
   ]
  },
  {
   "cell_type": "code",
   "execution_count": null,
   "metadata": {},
   "outputs": [],
   "source": [
    "def compare_linear_dichotomic(n):\n",
    "    \"\"\"\n",
    "        :n param: size of the folder stack\n",
    "        :type n: int\n",
    "    \"\"\"\n",
    "    ratio=n/math.log2(n)\n",
    "    print(f\"for n={n}, dichotomic search is {int(ratio)}  times faster\" )"
   ]
  },
  {
   "cell_type": "code",
   "execution_count": null,
   "metadata": {},
   "outputs": [],
   "source": [
    "compare_linear_dichotomic(111)"
   ]
  },
  {
   "cell_type": "code",
   "execution_count": null,
   "metadata": {},
   "outputs": [],
   "source": [
    "compare_linear_dichotomic(100)"
   ]
  },
  {
   "cell_type": "markdown",
   "metadata": {},
   "source": [
    "### Plotting"
   ]
  },
  {
   "cell_type": "code",
   "execution_count": null,
   "metadata": {},
   "outputs": [],
   "source": [
    "%matplotlib inline\n",
    "import pylab as pl\n",
    "import time\n",
    "from IPython import display\n",
    "for a in range(2, 11, 2):\n",
    "    # if you use dark background you may want to yse the following option\n",
    "    pl.style.use('dark_background')\n",
    "    pl.plot(range(1, 30), [math.log(x)/math.log(a) for x in range(1, 30)], label=f\"log in base {a}\")\n",
    "    pl.xlabel(\"x\")\n",
    "    display.clear_output(wait=True)\n",
    "    pl.legend(loc=\"best\")\n",
    "    display.display(pl.gcf())\n",
    "    time.sleep(0.2)"
   ]
  }
 ],
 "metadata": {
  "kernelspec": {
   "display_name": "Python 3",
   "language": "python",
   "name": "python3"
  },
  "language_info": {
   "codemirror_mode": {
    "name": "ipython",
    "version": 3
   },
   "file_extension": ".py",
   "mimetype": "text/x-python",
   "name": "python",
   "nbconvert_exporter": "python",
   "pygments_lexer": "ipython3",
   "version": "3.7.6"
  }
 },
 "nbformat": 4,
 "nbformat_minor": 4
}
